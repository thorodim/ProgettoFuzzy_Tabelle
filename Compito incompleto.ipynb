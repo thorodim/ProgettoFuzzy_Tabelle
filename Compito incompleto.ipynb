{
  "nbformat": 4,
  "nbformat_minor": 0,
  "metadata": {
    "colab": {
      "name": "Un benvenuto a Colaboratory",
      "provenance": [],
      "collapsed_sections": [],
      "toc_visible": true,
      "include_colab_link": true
    },
    "kernelspec": {
      "display_name": "Python 3",
      "name": "python3"
    }
  },
  "cells": [
    {
      "cell_type": "markdown",
      "metadata": {
        "id": "view-in-github",
        "colab_type": "text"
      },
      "source": [
        "<a href=\"https://colab.research.google.com/github/thorodim/ProgettoFuzzy_Tabelle/blob/main/Compito%20incompleto.ipynb\" target=\"_parent\"><img src=\"https://colab.research.google.com/assets/colab-badge.svg\" alt=\"Open In Colab\"/></a>"
      ]
    },
    {
      "cell_type": "markdown",
      "metadata": {
        "id": "JJNsMkCIy8DQ"
      },
      "source": [
        "La logica è lo studio del ragionamento e dell'argomentazione, utilizzata per trasmettere conoscenza.\r\n",
        "In questo corso abbiamo avuto modo di studiare più tipi di logica, partendo da quella classica.\r\n",
        "Siamo arrivati a studiare le logiche polivalenti che sono estensioni della logica classica in cui sono presenti più valori di verità rispetto ai canonici vero, falso.\r\n",
        "Parte di queste logiche è la logica fuzzy (o logica sfumata o logica sfocata) che a sua volta è una logica in cui si può attribuire a ciascuna proposizione un grado di verità diverso da 0 e 1 e compreso tra di loro.\r\n",
        "Personalmente parlando (contando che io in primis, mi reputo un ignorante in tali argomenti)\r\n",
        "è stato molto interessante vedere da un punto di vista insiemistico in cosa potessero differire la logica Fuzzy (con i suoi gradi di appartenenza e da qui il modo di essere chiamata come logica sfumata)\r\n",
        "e la logica Booleana ove non si prende l'intero intervallo [0,1].\r\n"
      ]
    },
    {
      "cell_type": "code",
      "metadata": {
        "id": "tWQPlDqrzBew"
      },
      "source": [
        "def congiunzione(var1,var2,logic): #definisco due tipi di operazioni in base alla logica di riferimento\r\n",
        "  if logic == 'Boole':             # tutto posto con un controllo if, controllo sulla logic \r\n",
        "   return var1 and var2            # per quanto nell'AND non servisse \r\n",
        "  else:\r\n",
        "    return min (var1, var2)\r\n",
        "\r\n",
        "def disgiunzione(var1,var2,logica):\r\n",
        " if logica == 'Boole':\r\n",
        "  return var1 or var2\r\n",
        " else:\r\n",
        "   return max(var1, var2)\r\n",
        "\r\n",
        "def implicazione(var1,var2,logica):\r\n",
        "  if logica == 'Boole':\r\n",
        "   return int (not var1 or var2)  #ho utilizzato \"l'int\" per farmi visualizzare i valori come numeri interi\r\n",
        "  else:\r\n",
        "    return min(1, 1 - var1 + var2)\r\n",
        "\r\n",
        "def equivalenza(var1,var2,logica):\r\n",
        "  if logica == 'Boole':\r\n",
        "   return int (not ((not var1 and var2) or (var1 and not var2)))\r\n",
        "  else:\r\n",
        "    return  1 - abs(var1 - var2)\r\n",
        "\r\n",
        "def negazione(var1,logica):\r\n",
        "  if logica == 'Boole':\r\n",
        "    return int (not var1)\r\n",
        "  else:\r\n",
        "    return 1 - int (var1)"
      ],
      "execution_count": 1,
      "outputs": []
    },
    {
      "cell_type": "code",
      "metadata": {
        "id": "5kuzkb7qzKgx"
      },
      "source": [
        "def stampa_tabella(formula): # per stampare la relativa tabella di verità. (ho posto un controllo sul NOT\r\n",
        "  valori = (0,1)             # per dargli modo di essere stampato correttamente con 1 solo valore + la negazione) \r\n",
        "  logic = input('Dammi La logica da Considerare --> Boole, Lukasiewicz: ') \r\n",
        "  while logic != 'Boole' and logic != 'Lukasiewicz':         \r\n",
        "    print('La Logica Selezionata non è valida')              \r\n",
        "    logic = input('Dammi La logica da Considerare --> Boole, Lukasiewicz: ')\r\n",
        "  if formula == 'negazione': \r\n",
        "    for A in valori:\r\n",
        "      print(f'{A} | {eval(formula+\"(A,logic)\")}')\r\n",
        "  else:\r\n",
        "   for A in valori:\r\n",
        "    for B in valori:\r\n",
        "      print(f' {A} | {B} | {eval(formula+\"(A,B,logic)\")}')"
      ],
      "execution_count": 2,
      "outputs": []
    },
    {
      "cell_type": "code",
      "metadata": {
        "colab": {
          "base_uri": "https://localhost:8080/"
        },
        "id": "jKLDtii5zKpP",
        "outputId": "60ef316f-eb63-41a8-ce9d-1c5a394d76e2"
      },
      "source": [
        "risposta = 'si' #funzione creata per dargli modo di capire quale operazione effettuare\r\n",
        "while risposta == 'si':    # e, tramite ciclo while, continuare fino alla risposta no dell'utente \r\n",
        "  operazione = input('Quale Operazione Vuoi Effettuare? ---> congiunzione, disgiunzione, implicazione, equivalenza, negazione: ')\r\n",
        "  stampa_tabella(operazione)  # le operazioni vanno richiamate tra apici ''\r\n",
        "  risposta = input('Vuoi Effettuare Un\\'altra Operazione? ---> si, no ---> ') # ES. stampa_tabella('negazione')\r\n",
        "print('Arrivederci!')"
      ],
      "execution_count": 3,
      "outputs": [
        {
          "output_type": "stream",
          "text": [
            "Quale Operazione Vuoi Effettuare? ---> congiunzione, disgiunzione, implicazione, equivalenza, negazione: disgiunzione\n",
            "Dammi La logica da Considerare --> Boole, Lukasiewicz: Boole\n",
            " 0 | 0 | 0\n",
            " 0 | 1 | 1\n",
            " 1 | 0 | 1\n",
            " 1 | 1 | 1\n",
            "Vuoi Effettuare Un'altra Operazione? ---> si, no ---> no\n",
            "Arrivederci!\n"
          ],
          "name": "stdout"
        }
      ]
    },
    {
      "cell_type": "code",
      "metadata": {
        "colab": {
          "base_uri": "https://localhost:8080/"
        },
        "id": "ImlDuQbcB3cJ",
        "outputId": "be311b76-28c8-4b1b-e5fb-d34e6fbb53ef"
      },
      "source": [
        "valori = (0,1)\r\n",
        "print('A | not A | A or not A')\r\n",
        "for A in valori:\r\n",
        "  print(f'{A} |     {int(not A)} |    {disgiunzione(A, int(not A), \"Boole\")}')"
      ],
      "execution_count": 9,
      "outputs": [
        {
          "output_type": "stream",
          "text": [
            "A | not A | A or not A\n",
            "0 |     1 |    1\n",
            "1 |     0 |    1\n"
          ],
          "name": "stdout"
        }
      ]
    },
    {
      "cell_type": "code",
      "metadata": {
        "colab": {
          "base_uri": "https://localhost:8080/"
        },
        "id": "8yzGwr_qDWa1",
        "outputId": "1ae50118-4a36-46da-d90a-eae033d9fdc4"
      },
      "source": [
        "valori = (0,1)\r\n",
        "print(\"A | B | not A | not A -> B\")\r\n",
        "for A in valori:\r\n",
        "  for B in valori:\r\n",
        "    print(f'{A} |  {B}| {int(not A)}     |    {implicazione(int(not A), B, \"Boole\")}')"
      ],
      "execution_count": 22,
      "outputs": [
        {
          "output_type": "stream",
          "text": [
            "A | B | not A | not A -> B\n",
            "0 |  0| 1     |    0\n",
            "0 |  1| 1     |    1\n",
            "1 |  0| 0     |    1\n",
            "1 |  1| 0     |    1\n"
          ],
          "name": "stdout"
        }
      ]
    },
    {
      "cell_type": "code",
      "metadata": {
        "id": "KfbUF_qbFfC_"
      },
      "source": [
        "def congiunzione_trivalente(var1, var2):\r\n",
        "  return min(var1, var2)\r\n",
        "\r\n",
        "def disgiunzione_trivalente(var1, var2):\r\n",
        "  return max(var1, var2)\r\n",
        "\r\n",
        "def negazione_trivalente(var1):\r\n",
        "  if var1 == 1:\r\n",
        "    return -1\r\n",
        "  elif var1 == -1:\r\n",
        "    return 1\r\n",
        "def implicazione_trivalente(var1,var2):\r\n",
        "\r\n",
        "\r\n",
        "def equivalenza_trivalente(var1,var2):\r\n",
        "  "
      ],
      "execution_count": 24,
      "outputs": []
    },
    {
      "cell_type": "code",
      "metadata": {
        "id": "ecSi59IRJRlI",
        "outputId": "62d3e1a8-d7e9-488a-a5e2-3221b2de9d1b",
        "colab": {
          "base_uri": "https://localhost:8080/",
          "height": 231
        }
      },
      "source": [
        "def stampa_tabella_trivalente(logica):\r\n",
        "  valori_trivalenti = (-1, 0, 1)\r\n",
        "\r\n",
        "variabile_boole = (\"congiunzione\", \"disgiunzione\", \"negazione\")\r\n",
        "variabile_lukasiewicz = (\"implicazione\", \"equivalenza\")\r\n",
        "if logica == \"Boole\":\r\n",
        "  risposta = input('Quale operazione devo effettuare? ---> congiunzione, disgiunzione, negazione' )\r\n",
        "  while risposta not in variabile_boole:\r\n",
        "    risposta = input('Quale operazione devo effettuare? ---> congiunzione, disgiunzione, negazione' )\r\n",
        "  risposta += '_trivalente'\r\n",
        "else:\r\n",
        "  risposta = input('Quale operazione devo effettuare? --> implicazione, equivalenza' )\r\n",
        "  while risposta not in variabile_lukasiewicz:\r\n",
        "    risposta = input('Quale operazione devo effettuare? --> implicazione, equivalenza' )\r\n",
        "  risposta += '_trivalente'\r\n",
        "\r\n",
        "  if risposta == 'negazione_trivalente':\r\n",
        "    print('A | not A')\r\n",
        "    for A in valori_trivalenti:\r\n",
        "      print(f'{A} | {eval(risposta+\"(A)\")}')\r\n",
        "  else:\r\n",
        "   for A in valori_trivalenti:\r\n",
        "     for B in valori_trivalenti:\r\n",
        "       print(f' {A} | {B} | {eval(risposta+\"(A, B)\")}')"
      ],
      "execution_count": 34,
      "outputs": [
        {
          "output_type": "error",
          "ename": "NameError",
          "evalue": "ignored",
          "traceback": [
            "\u001b[0;31m---------------------------------------------------------------------------\u001b[0m",
            "\u001b[0;31mNameError\u001b[0m                                 Traceback (most recent call last)",
            "\u001b[0;32m<ipython-input-34-172fd87511a4>\u001b[0m in \u001b[0;36m<module>\u001b[0;34m()\u001b[0m\n\u001b[1;32m      4\u001b[0m \u001b[0mvariabile_boole\u001b[0m \u001b[0;34m=\u001b[0m \u001b[0;34m(\u001b[0m\u001b[0;34m\"congiunzione\"\u001b[0m\u001b[0;34m,\u001b[0m \u001b[0;34m\"disgiunzione\"\u001b[0m\u001b[0;34m,\u001b[0m \u001b[0;34m\"negazione\"\u001b[0m\u001b[0;34m)\u001b[0m\u001b[0;34m\u001b[0m\u001b[0;34m\u001b[0m\u001b[0m\n\u001b[1;32m      5\u001b[0m \u001b[0mvariabile_lukasiewicz\u001b[0m \u001b[0;34m=\u001b[0m \u001b[0;34m(\u001b[0m\u001b[0;34m\"implicazione\"\u001b[0m\u001b[0;34m,\u001b[0m \u001b[0;34m\"equivalenza\"\u001b[0m\u001b[0;34m)\u001b[0m\u001b[0;34m\u001b[0m\u001b[0;34m\u001b[0m\u001b[0m\n\u001b[0;32m----> 6\u001b[0;31m \u001b[0;32mif\u001b[0m \u001b[0mlogica\u001b[0m \u001b[0;34m==\u001b[0m \u001b[0;34m\"Boole\"\u001b[0m\u001b[0;34m:\u001b[0m\u001b[0;34m\u001b[0m\u001b[0;34m\u001b[0m\u001b[0m\n\u001b[0m\u001b[1;32m      7\u001b[0m   \u001b[0mrisposta\u001b[0m \u001b[0;34m=\u001b[0m \u001b[0minput\u001b[0m\u001b[0;34m(\u001b[0m\u001b[0;34m'Quale operazione devo effettuare? ---> congiunzione, disgiunzione, negazione'\u001b[0m \u001b[0;34m)\u001b[0m\u001b[0;34m\u001b[0m\u001b[0;34m\u001b[0m\u001b[0m\n\u001b[1;32m      8\u001b[0m   \u001b[0;32mwhile\u001b[0m \u001b[0mrisposta\u001b[0m \u001b[0;32mnot\u001b[0m \u001b[0;32min\u001b[0m \u001b[0mvariabile_boole\u001b[0m\u001b[0;34m:\u001b[0m\u001b[0;34m\u001b[0m\u001b[0;34m\u001b[0m\u001b[0m\n",
            "\u001b[0;31mNameError\u001b[0m: name 'logica' is not defined"
          ]
        }
      ]
    },
    {
      "cell_type": "markdown",
      "metadata": {
        "id": "OrsiKUqlPwhr"
      },
      "source": [
        "purtroppo non son riuscito a finirlo, ne a far di meglio"
      ]
    }
  ]
}